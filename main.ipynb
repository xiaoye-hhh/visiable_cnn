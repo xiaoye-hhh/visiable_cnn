{
 "cells": [
  {
   "cell_type": "code",
   "execution_count": 124,
   "metadata": {},
   "outputs": [],
   "source": [
    "import torch\n",
    "import torch.nn as nn\n",
    "import torchvision.transforms as T\n",
    "import glob\n",
    "from PIL import Image"
   ]
  },
  {
   "cell_type": "code",
   "execution_count": 138,
   "metadata": {},
   "outputs": [],
   "source": [
    "class Dataset(torch.utils.data.Dataset):\n",
    "    def __init__(self, train):\n",
    "        self.x = []\n",
    "        self.y = []\n",
    "        self.transform = T.Compose([T.RandomAffine((0, 360)), T.ToTensor()])\n",
    "        # self.transform = T.Compose([T.ToTensor()])\n",
    "\n",
    "        # 加载数据\n",
    "        label2id = {'ellipse': 0, 'rect': 1, 'triangle': 2}\n",
    "        for label, id in label2id.items():\n",
    "            path = glob.glob(f'data/{label}/*.jpg')\n",
    "            max_lens = max(map(len, path))\n",
    "            if train:\n",
    "                path = list(filter(lambda s: len(s) == max_lens, path))\n",
    "            else:\n",
    "                path = list(filter(lambda s: len(s) != max_lens, path))\n",
    "\n",
    "            self.x.extend(path)\n",
    "            self.y.extend([id] * len(path))\n",
    "        \n",
    "        self.y = torch.tensor(self.y)\n",
    "\n",
    "\n",
    "    def __getitem__(self, index):\n",
    "        im = Image.open(self.x[index])\n",
    "        x = self.transform(im)\n",
    "\n",
    "        return x[:3,...], self.y[index]\n",
    "\n",
    "    def __len__(self):\n",
    "        return len(self.y)\n",
    "\n",
    "\n",
    "train_dataset = Dataset(True)\n",
    "test_dataset = Dataset(False)\n",
    "train_loader = torch.utils.data.DataLoader(train_dataset, batch_size=16, num_workers=2, shuffle=2)\n",
    "test_loader = torch.utils.data.DataLoader(test_dataset, batch_size=16, num_workers=2)"
   ]
  },
  {
   "cell_type": "code",
   "execution_count": 135,
   "metadata": {},
   "outputs": [
    {
     "name": "stdout",
     "output_type": "stream",
     "text": [
      "torch.Size([1, 3])\n"
     ]
    }
   ],
   "source": [
    "class Model(nn.Module):\n",
    "    def __init__(self):\n",
    "        super().__init__()\n",
    "\n",
    "        self.conv1 = nn.Sequential(nn.Conv2d(3, 4, 5, padding=2, stride=2), nn.ReLU())\n",
    "        self.conv2 = nn.Sequential(nn.Conv2d(4, 4, 3, padding=1), nn.ReLU())\n",
    "        self.conv3 = nn.Sequential(nn.Conv2d(4, 8, 3, padding=1, stride=2), nn.ReLU())\n",
    "        self.conv4 = nn.Sequential(nn.Conv2d(8, 8, 3, padding=1), nn.ReLU())\n",
    "        self.conv5 = nn.Sequential(nn.Conv2d(8, 16, 3, padding=1, stride=2), nn.ReLU())\n",
    "        self.conv6 = nn.Sequential(nn.Conv2d(16, 16, 3, padding=1), nn.ReLU())\n",
    "        self.conv7 = nn.Sequential(nn.Conv2d(16, 8, 3, padding=1), nn.ReLU())\n",
    "\n",
    "        self.linear = nn.Sequential(nn.Flatten(),\n",
    "                                    nn.Linear(8*9*6, 128), nn.ReLU(), \n",
    "                                    nn.Linear(128, 3))\n",
    "\n",
    "    def forward(self, x):\n",
    "        x = self.conv1(x)\n",
    "        x = self.conv2(x)\n",
    "        x = self.conv3(x)\n",
    "        x = self.conv4(x)\n",
    "        x = self.conv5(x)\n",
    "        x = self.conv6(x)\n",
    "        x = self.conv7(x)\n",
    "        x = self.linear(x)\n",
    "\n",
    "        return x\n",
    "\n",
    "model = Model()\n",
    "x = torch.rand((1, 3, 72, 48))\n",
    "print(model(x).shape)"
   ]
  },
  {
   "cell_type": "code",
   "execution_count": 136,
   "metadata": {},
   "outputs": [],
   "source": [
    "model = Model().cuda()\n",
    "optimizer = torch.optim.Adam(model.parameters(), lr=0.001)\n",
    "loss_fn = nn.CrossEntropyLoss()"
   ]
  },
  {
   "cell_type": "code",
   "execution_count": 140,
   "metadata": {},
   "outputs": [
    {
     "name": "stdout",
     "output_type": "stream",
     "text": [
      "acc: 1.000  softmax_loss: 0.01318   [  0/163]\n",
      "acc: 1.000  softmax_loss: 0.00572   [  0/163]\n",
      "acc: 1.000  softmax_loss: 0.00085   [  0/163]\n",
      "acc: 1.000  softmax_loss: 0.00049   [  0/163]\n",
      "acc: 1.000  softmax_loss: 0.00021   [  0/163]\n",
      "acc: 1.000  softmax_loss: 0.00023   [  0/163]\n",
      "acc: 1.000  softmax_loss: 0.00513   [  0/163]\n",
      "acc: 1.000  softmax_loss: 0.00006   [  0/163]\n"
     ]
    }
   ],
   "source": [
    "for epoch in range(40):\n",
    "    for step, (x, y) in enumerate(train_loader):\n",
    "        x = x.to('cuda')\n",
    "        y = y.to('cuda')\n",
    "        pred_y = model(x)\n",
    "\n",
    "        acc = y.eq(pred_y.max(dim=1)[1]).sum() / y.shape[0]\n",
    "        loss = loss_fn(pred_y, y)\n",
    "\n",
    "        loss.backward()\n",
    "        optimizer.step()\n",
    "        optimizer.zero_grad()\n",
    "\n",
    "\n",
    "        if epoch % 5 == 0 and step == 0:\n",
    "            print(f\"acc: {acc.item():>.3f}  softmax_loss: {loss.item():>.5f}   [{step:>3}/{len(train_loader):>3}]\")"
   ]
  },
  {
   "cell_type": "code",
   "execution_count": 141,
   "metadata": {},
   "outputs": [
    {
     "name": "stdout",
     "output_type": "stream",
     "text": [
      "tensor(0.9600, device='cuda:0')\n"
     ]
    }
   ],
   "source": [
    "cnt = 0\n",
    "true_cnt = 0\n",
    "for x, y in test_loader:\n",
    "    x = x.to('cuda')\n",
    "    y = y.to('cuda')\n",
    "    pred_y = model(x)\n",
    "\n",
    "    cnt += len(y)\n",
    "    true_cnt += y.eq(pred_y.max(dim=1)[1]).sum() \n",
    "\n",
    "    # print(y, pred_y.max(dim=1)[1])\n",
    "\n",
    "print(true_cnt/cnt)"
   ]
  },
  {
   "cell_type": "code",
   "execution_count": null,
   "metadata": {},
   "outputs": [],
   "source": []
  }
 ],
 "metadata": {
  "interpreter": {
   "hash": "df72a6da525d7493ddfa4171f80aaad3d91bbc47e69e20e539318552013c8977"
  },
  "kernelspec": {
   "display_name": "Python 3.9.9 ('base')",
   "language": "python",
   "name": "python3"
  },
  "language_info": {
   "codemirror_mode": {
    "name": "ipython",
    "version": 3
   },
   "file_extension": ".py",
   "mimetype": "text/x-python",
   "name": "python",
   "nbconvert_exporter": "python",
   "pygments_lexer": "ipython3",
   "version": "3.9.9"
  },
  "orig_nbformat": 4
 },
 "nbformat": 4,
 "nbformat_minor": 2
}
