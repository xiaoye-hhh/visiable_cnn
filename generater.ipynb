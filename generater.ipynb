{
 "cells": [
  {
   "cell_type": "code",
   "execution_count": 2,
   "metadata": {},
   "outputs": [],
   "source": [
    "from matplotlib.patches import  Rectangle, Polygon, Ellipse\n",
    "import matplotlib.pyplot as plt\n",
    "import numpy as np\n",
    "\n",
    "%matplotlib inline"
   ]
  },
  {
   "cell_type": "code",
   "execution_count": 22,
   "metadata": {},
   "outputs": [],
   "source": [
    "def ellipse(w, h, index):\n",
    "    fig = plt.figure()\n",
    "    ax = fig.add_subplot(111)\n",
    "\n",
    "    ax.add_patch(Ellipse([0, 0], w, h))\n",
    "    plt.axis('off')\n",
    "    plt.axis('scaled')\n",
    "    plt.axis('equal') \n",
    "    # plt.show()\n",
    "    plt.savefig(f'ellipse/{index}.jpg', dpi=12)\n",
    "    plt.close(fig)"
   ]
  },
  {
   "cell_type": "code",
   "execution_count": 23,
   "metadata": {},
   "outputs": [],
   "source": [
    "def rect(w, h, index):\n",
    "    fig = plt.figure()\n",
    "    ax = fig.add_subplot(111)\n",
    "\n",
    "    ax.add_patch(Rectangle([0, 0], w, h))\n",
    "    plt.axis('off')\n",
    "    plt.axis('scaled')\n",
    "    plt.axis('equal') \n",
    "    # plt.show()\n",
    "    plt.savefig(f'rect/{index}.jpg', dpi=12)\n",
    "    plt.close(fig)"
   ]
  },
  {
   "cell_type": "code",
   "execution_count": 24,
   "metadata": {},
   "outputs": [],
   "source": [
    "def triangle(pos, index):\n",
    "    fig = plt.figure()\n",
    "    ax = fig.add_subplot(111)\n",
    "    \n",
    "    ax.add_patch(Polygon(pos))\n",
    "    plt.axis('off')\n",
    "    plt.axis('scaled')\n",
    "    plt.axis('equal') \n",
    "    # plt.show()\n",
    "    plt.savefig(f'triangle/{index}.jpg', dpi=12)\n",
    "    plt.close(fig)"
   ]
  },
  {
   "cell_type": "code",
   "execution_count": 25,
   "metadata": {},
   "outputs": [],
   "source": [
    "for i in range(800):\n",
    "    w, h = i // 30 + 1, i % 30 + 1\n",
    "    # rect(w, h, i)\n",
    "    # ellipse(w, h, i)\n",
    "    triangle(np.random.randint(1, 50, size=(3, 2)), i)\n",
    "    # break"
   ]
  },
  {
   "cell_type": "code",
   "execution_count": null,
   "metadata": {},
   "outputs": [],
   "source": []
  }
 ],
 "metadata": {
  "interpreter": {
   "hash": "1bf517ce5791061a08fde7c0e7e9d87531d991aa0d8cc64471347d3d64c1d73b"
  },
  "kernelspec": {
   "display_name": "Python 3.8.8 ('base')",
   "language": "python",
   "name": "python3"
  },
  "language_info": {
   "codemirror_mode": {
    "name": "ipython",
    "version": 3
   },
   "file_extension": ".py",
   "mimetype": "text/x-python",
   "name": "python",
   "nbconvert_exporter": "python",
   "pygments_lexer": "ipython3",
   "version": "3.9.9"
  },
  "orig_nbformat": 4
 },
 "nbformat": 4,
 "nbformat_minor": 2
}
